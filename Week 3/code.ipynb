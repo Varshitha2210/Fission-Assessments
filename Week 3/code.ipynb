{
 "cells": [
  {
   "cell_type": "markdown",
   "id": "e860082f",
   "metadata": {},
   "source": [
    "#### 1. Write a regex to find all digits in a string and return them as a list."
   ]
  },
  {
   "cell_type": "code",
   "execution_count": 27,
   "id": "1a8c8c9f",
   "metadata": {},
   "outputs": [
    {
     "data": {
      "text/plain": [
       "['123', '456']"
      ]
     },
     "execution_count": 27,
     "metadata": {},
     "output_type": "execute_result"
    }
   ],
   "source": [
    "import re\n",
    "text = ' abc 123 def 456 '\n",
    "pattern = r'\\d+'\n",
    "re.findall(pattern , text)"
   ]
  },
  {
   "cell_type": "markdown",
   "id": "14bea100",
   "metadata": {},
   "source": [
    "#### 2. Write a regex function that replaces all multiple spaces in a string with a single space."
   ]
  },
  {
   "cell_type": "code",
   "execution_count": 26,
   "id": "797586c7",
   "metadata": {},
   "outputs": [
    {
     "data": {
      "text/plain": [
       "' abc 123 def 456 '"
      ]
     },
     "execution_count": 26,
     "metadata": {},
     "output_type": "execute_result"
    }
   ],
   "source": [
    "text = ' abc\\t123  def 456\\n '\n",
    "pattern = r'\\s+'\n",
    "re.sub(pattern,' ' ,text)"
   ]
  },
  {
   "cell_type": "markdown",
   "id": "694aae59",
   "metadata": {},
   "source": [
    "#### 3. Write a regex pattern to extract all valid email addresses from a given text.\n"
   ]
  },
  {
   "cell_type": "code",
   "execution_count": 31,
   "id": "f0e027f6",
   "metadata": {},
   "outputs": [
    {
     "data": {
      "text/plain": [
       "['cvbnm_123@gmail.com', 'dfghj@rty.in', 'ert-788@yahoo.com']"
      ]
     },
     "execution_count": 31,
     "metadata": {},
     "output_type": "execute_result"
    }
   ],
   "source": [
    "import re\n",
    "pattern = r'[0-9a-zA-Z-_.]+@[a-zA-Z]+\\.[a-z]{2,}'\n",
    "text = \" cvbnm_123@gmail.com , dfghj@rty.in and ert-788@yahoo.com \"\n",
    "re.findall(pattern , text)\n"
   ]
  },
  {
   "cell_type": "code",
   "execution_count": null,
   "id": "10f43212",
   "metadata": {},
   "outputs": [],
   "source": []
  },
  {
   "cell_type": "code",
   "execution_count": null,
   "id": "c64179a2",
   "metadata": {},
   "outputs": [],
   "source": []
  }
 ],
 "metadata": {
  "kernelspec": {
   "display_name": ".venv",
   "language": "python",
   "name": "python3"
  },
  "language_info": {
   "codemirror_mode": {
    "name": "ipython",
    "version": 3
   },
   "file_extension": ".py",
   "mimetype": "text/x-python",
   "name": "python",
   "nbconvert_exporter": "python",
   "pygments_lexer": "ipython3",
   "version": "3.13.3"
  }
 },
 "nbformat": 4,
 "nbformat_minor": 5
}
