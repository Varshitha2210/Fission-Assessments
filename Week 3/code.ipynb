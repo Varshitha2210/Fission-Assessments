{
 "cells": [
  {
   "cell_type": "markdown",
   "id": "e860082f",
   "metadata": {},
   "source": [
    "#### 1. Write a regex to find all digits in a string and return them as a list."
   ]
  },
  {
   "cell_type": "code",
   "execution_count": 7,
   "id": "1a8c8c9f",
   "metadata": {},
   "outputs": [
    {
     "name": "stdout",
     "output_type": "stream",
     "text": [
      "['123', '456']\n"
     ]
    }
   ],
   "source": [
    "import re\n",
    "text = ' abc 123 def 456 '\n",
    "pattern = r'\\d+'\n",
    "match = re.findall(pattern , text)\n",
    "print(match)"
   ]
  },
  {
   "cell_type": "markdown",
   "id": "14bea100",
   "metadata": {},
   "source": [
    "#### 2. Write a regex function that replaces all multiple spaces in a string with a single space."
   ]
  },
  {
   "cell_type": "code",
   "execution_count": 6,
   "id": "797586c7",
   "metadata": {},
   "outputs": [
    {
     "name": "stdout",
     "output_type": "stream",
     "text": [
      " abc 123 def 456 \n"
     ]
    }
   ],
   "source": [
    "text = ' abc\\t123  def 456\\n '\n",
    "pattern = r'\\s+'\n",
    "match = re.sub(pattern,' ' ,text)\n",
    "print(match)"
   ]
  },
  {
   "cell_type": "markdown",
   "id": "694aae59",
   "metadata": {},
   "source": [
    "#### 3. Write a regex pattern to extract all valid email addresses from a given text.\n"
   ]
  },
  {
   "cell_type": "code",
   "execution_count": 7,
   "id": "f0e027f6",
   "metadata": {},
   "outputs": [
    {
     "name": "stdout",
     "output_type": "stream",
     "text": [
      "varsitha_123@gmail.com\n"
     ]
    }
   ],
   "source": [
    "import re\n",
    "pattern = r'[0-9a-zA-Z-_.]+@[a-z]+\\.[a-z]{2,}$'\n",
    "text = \" I'm varshitha and my email id is varsitha_123@gmail.com\"\n",
    "match = re.search(pattern , text)\n",
    "print(match.group()) "
   ]
  },
  {
   "cell_type": "code",
   "execution_count": null,
   "id": "10f43212",
   "metadata": {},
   "outputs": [],
   "source": []
  },
  {
   "cell_type": "code",
   "execution_count": null,
   "id": "c64179a2",
   "metadata": {},
   "outputs": [],
   "source": []
  }
 ],
 "metadata": {
  "kernelspec": {
   "display_name": ".venv",
   "language": "python",
   "name": "python3"
  },
  "language_info": {
   "codemirror_mode": {
    "name": "ipython",
    "version": 3
   },
   "file_extension": ".py",
   "mimetype": "text/x-python",
   "name": "python",
   "nbconvert_exporter": "python",
   "pygments_lexer": "ipython3",
   "version": "3.13.3"
  }
 },
 "nbformat": 4,
 "nbformat_minor": 5
}
