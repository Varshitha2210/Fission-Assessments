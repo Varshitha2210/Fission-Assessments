{
 "cells": [
  {
   "cell_type": "markdown",
   "id": "dacf512b",
   "metadata": {},
   "source": [
    "#### 1.  Write a function that uses a lambda to double a number.\n",
    "```\n",
    "Example 1:\n",
    "Input: 5\n",
    "Output: 10\n",
    "\n",
    "Example 2:\n",
    "Input: 12\n",
    "Output: 24\n",
    "\n",
    "Example 3:\n",
    "Input: -7\n",
    "Output: -14"
   ]
  },
  {
   "cell_type": "code",
   "execution_count": null,
   "id": "fd03d86c",
   "metadata": {},
   "outputs": [
    {
     "data": {
      "text/plain": [
       "-14"
      ]
     },
     "execution_count": 14,
     "metadata": {},
     "output_type": "execute_result"
    }
   ],
   "source": [
    "def Double_the_num():\n",
    "    try:\n",
    "        x = int(input(' Enter the number : '))\n",
    "        res = lambda x : x*2\n",
    "        return res(x)\n",
    "    except:\n",
    "        return ' Enter the correct input '\n",
    "Double_the_num()\n"
   ]
  },
  {
   "cell_type": "markdown",
   "id": "75697f09",
   "metadata": {},
   "source": [
    "### 2. Write a function that takes a list and returns a new list with only even numbers using filter.\n",
    "Example 1:\n",
    "Input: [1, 2, 3, 4, 5, 6]\n",
    "Output: [2, 4, 6]\n",
    "\n",
    "Example 2:\n",
    "Input: [11, 13, 15, 18, 20]\n",
    "Output: [18, 20]\n",
    "\n",
    "Example 3:\n",
    "Input: [7, 9, 21]\n",
    "Output: []"
   ]
  },
  {
   "cell_type": "code",
   "execution_count": 28,
   "id": "e9dfaa47",
   "metadata": {},
   "outputs": [
    {
     "data": {
      "text/plain": [
       "[2, 4, 6]"
      ]
     },
     "execution_count": 28,
     "metadata": {},
     "output_type": "execute_result"
    }
   ],
   "source": [
    "def even_numbers():\n",
    "    try:\n",
    "        list_ = list(map(int, input(\"Enter the numbers : \").split()))\n",
    "        res = lambda x : x%2 == 0\n",
    "        return list(filter(res,list_))\n",
    "    except:\n",
    "        return 'invalid'\n",
    "even_numbers()"
   ]
  },
  {
   "cell_type": "markdown",
   "id": "aacf9b3b",
   "metadata": {},
   "source": [
    "### 3.  Write a decorator that times the execution of a function and prints the time taken.\n",
    "```\n",
    "Example 1:\n",
    "A function that adds numbers from 1 to 1,000,000\n",
    "Output: Time taken: ~0.05 seconds\n",
    "\n",
    "Example 2:\n",
    "A function that sleeps for 2 seconds\n",
    "Output: Time taken: ~2.00 seconds\n",
    "\n",
    "Example 3:\n",
    "A function that multiplies two numbers (e.g., 10 * 20)\n",
    "Output: Time taken: ~0.00001 seconds\n",
    "\n",
    "```"
   ]
  },
  {
   "cell_type": "code",
   "execution_count": 40,
   "id": "c3ccb367",
   "metadata": {},
   "outputs": [
    {
     "name": "stdout",
     "output_type": "stream",
     "text": [
      "Time taken : 0.05818367004394531 seconds\n",
      "Time taken : 2.0004465579986572 seconds\n",
      "Time taken : 2.384185791015625e-06 seconds \n"
     ]
    }
   ],
   "source": [
    "import time\n",
    "def time_taken(func):\n",
    "    def wrapper(*args,**kwargs):\n",
    "        start_time = time.time()\n",
    "        func(*args,**kwargs)\n",
    "        end_time = time.time()\n",
    "        total_time = end_time - start_time\n",
    "        return total_time\n",
    "    return wrapper\n",
    "@time_taken\n",
    "def add_nums():\n",
    "    sum = 0\n",
    "    for i in range(1,1000000):\n",
    "        sum = sum +i\n",
    "    return sum\n",
    "print(f'Time taken : {add_nums()} seconds')\n",
    "\n",
    "@time_taken\n",
    "def sleeps():\n",
    "    time.sleep(2)\n",
    "print(f'Time taken : {sleeps()} seconds')\n",
    "\n",
    "@time_taken\n",
    "def multiplies_two_num(a,b):\n",
    "    res = a * b\n",
    "    return res\n",
    "print(f'Time taken : {multiplies_two_num(10,20)} seconds ')   \n"
   ]
  },
  {
   "cell_type": "markdown",
   "id": "712a9d00",
   "metadata": {},
   "source": [
    "#### 4. Write a recursive function that takes a number n and returns a list of all numbers from n down to 1 and then back up to n.\n",
    "```\n",
    "Example 1:\n",
    "Input: 3\n",
    "Output: [3, 2, 1, 2, 3]\n",
    "\n",
    "Example 2:\n",
    "Input: 5\n",
    "Output: [5, 4, 3, 2, 1, 2, 3, 4, 5]\n",
    "```"
   ]
  },
  {
   "cell_type": "code",
   "execution_count": 23,
   "id": "7d2bf794",
   "metadata": {},
   "outputs": [
    {
     "data": {
      "text/plain": [
       "[3, 2, 1, 2, 3]"
      ]
     },
     "execution_count": 23,
     "metadata": {},
     "output_type": "execute_result"
    }
   ],
   "source": [
    "def down_to_up(n): \n",
    "    if n == 1: \n",
    "        return [1] \n",
    "    elif n < 1: \n",
    "        return 'Enter a positive number'    \n",
    "    else: \n",
    "        return [n] + down_to_up(n-1) + [n]\n",
    "n = int(input('Enter the number : '))\n",
    "down_to_up(n) \n",
    " "
   ]
  },
  {
   "cell_type": "code",
   "execution_count": null,
   "id": "fe63e55c",
   "metadata": {},
   "outputs": [],
   "source": []
  }
 ],
 "metadata": {
  "kernelspec": {
   "display_name": ".venv",
   "language": "python",
   "name": "python3"
  },
  "language_info": {
   "codemirror_mode": {
    "name": "ipython",
    "version": 3
   },
   "file_extension": ".py",
   "mimetype": "text/x-python",
   "name": "python",
   "nbconvert_exporter": "python",
   "pygments_lexer": "ipython3",
   "version": "3.13.3"
  }
 },
 "nbformat": 4,
 "nbformat_minor": 5
}
