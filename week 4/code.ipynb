{
 "cells": [
  {
   "cell_type": "markdown",
   "id": "c9fe465c",
   "metadata": {},
   "source": [
    "1.  Write a list comprehension to generate a list of squares from 1 to 10.\n",
    "\n",
    "```\n",
    "Example 1:\n",
    "Input: Range = 1 to 10\n",
    "Output: [1, 4, 9, 16, 25, 36, 49, 64, 81, 100]\n",
    "\n",
    "Example 2:\n",
    "Input: Range = 1 to 5\n",
    "Output: [1, 4, 9, 16, 25]\n",
    "\n",
    "Example 3:\n",
    "Input: Range = 3 to 6\n",
    "Output: [9, 16, 25, 36]\n",
    "```"
   ]
  },
  {
   "cell_type": "code",
   "execution_count": 5,
   "id": "e61b8a78",
   "metadata": {},
   "outputs": [
    {
     "data": {
      "text/plain": [
       "[1, 4, 9, 16, 25, 36, 49, 64, 81, 100]"
      ]
     },
     "execution_count": 5,
     "metadata": {},
     "output_type": "execute_result"
    }
   ],
   "source": [
    "res = [x**2 for x in range(1,11)]\n",
    "res"
   ]
  },
  {
   "cell_type": "markdown",
   "id": "aab51754",
   "metadata": {},
   "source": [
    "2.  Write a function that takes a list of numbers and returns their sum using enumerate (do not use sum()).\n",
    "\n",
    "```\n",
    "Example 1:\n",
    "Input: [1, 2, 3, 4]\n",
    "Output: 10\n",
    "\n",
    "Example 2:\n",
    "Input: [5, 10, 15]\n",
    "Output: 30\n",
    "\n",
    "Example 3:\n",
    "Input: [-1, 0, 1]\n",
    "Output: 0\n",
    "```"
   ]
  },
  {
   "cell_type": "code",
   "execution_count": 7,
   "id": "8a02827b",
   "metadata": {},
   "outputs": [
    {
     "name": "stdout",
     "output_type": "stream",
     "text": [
      "[5, 10, 15]\n",
      "Sum: 30\n"
     ]
    }
   ],
   "source": [
    "def sum_():\n",
    "    numbers_= list(map(int, input(\"Enter the numbers: \").split()))\n",
    "    print(numbers_)  \n",
    "    sum = 0\n",
    "    for i in numbers_:\n",
    "        sum = sum + i\n",
    "    print(f\"Sum: {sum}\")\n",
    "\n",
    "sum_()\n"
   ]
  },
  {
   "cell_type": "markdown",
   "id": "4a7d527e",
   "metadata": {},
   "source": [
    "3.  Write a function that takes another function and returns a new function that logs input and output using decorators and f-strings.\n",
    "\n",
    "```\n",
    "Example 1:\n",
    "Input: logged_add([3, 5])\n",
    "Output: 8\n",
    "\n",
    "Example 2:\n",
    "Input: logged_concat([\"Hello\", \"World\"])\n",
    "Output: \"HelloWorld\"\n",
    "\n",
    "Example 3:\n",
    "Input: logged_multiply([4, 2])\n",
    "Output: 8\n",
    "\n",
    "```"
   ]
  },
  {
   "cell_type": "code",
   "execution_count": 12,
   "id": "9a443066",
   "metadata": {},
   "outputs": [
    {
     "name": "stdout",
     "output_type": "stream",
     "text": [
      "Sum: 8\n",
      "concat : Helloworld\n",
      "multiply : 8\n"
     ]
    }
   ],
   "source": [
    "def dec_(func):\n",
    "    def wrapper(*args,**kwargs):\n",
    "        result = func(*args,**kwargs)\n",
    "        return result\n",
    "    return wrapper\n",
    "\n",
    "@dec_\n",
    "def logged_add():\n",
    "    numbers_= list(map(int, input(\"Enter the numbers: \").split())) \n",
    "    sum = 0\n",
    "    for i in numbers_:\n",
    "        sum = sum + i\n",
    "    return sum \n",
    "print(f\"Sum: {logged_add()}\")\n",
    "\n",
    "@dec_\n",
    "def logged_concat(a,b):\n",
    "    res = a + b\n",
    "    return res\n",
    "\n",
    "print(f\"concat : {logged_concat('Hello','world')}\")\n",
    "\n",
    "\n",
    "@dec_\n",
    "def logged_multiply(a,b ):\n",
    "    mul = a * b\n",
    "    return mul\n",
    "print(f\"multiply : {logged_multiply(4,2)}\")\n"
   ]
  },
  {
   "cell_type": "code",
   "execution_count": null,
   "id": "8d426e7d",
   "metadata": {},
   "outputs": [],
   "source": []
  }
 ],
 "metadata": {
  "kernelspec": {
   "display_name": ".venv",
   "language": "python",
   "name": "python3"
  },
  "language_info": {
   "codemirror_mode": {
    "name": "ipython",
    "version": 3
   },
   "file_extension": ".py",
   "mimetype": "text/x-python",
   "name": "python",
   "nbconvert_exporter": "python",
   "pygments_lexer": "ipython3",
   "version": "3.13.3"
  }
 },
 "nbformat": 4,
 "nbformat_minor": 5
}
